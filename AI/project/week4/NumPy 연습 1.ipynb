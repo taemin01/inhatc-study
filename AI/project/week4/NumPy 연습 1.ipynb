{
  "nbformat": 4,
  "nbformat_minor": 0,
  "metadata": {
    "colab": {
      "provenance": []
    },
    "kernelspec": {
      "name": "python3",
      "display_name": "Python 3"
    },
    "language_info": {
      "name": "python"
    }
  },
  "cells": [
    {
      "cell_type": "markdown",
      "source": [
        "아래 문제들은 결과 출력까시 실행 후 노트북 파일을 제출"
      ],
      "metadata": {
        "id": "vydh4AaATqYd"
      }
    },
    {
      "cell_type": "markdown",
      "source": [
        "1.1차원이면서 크기가 10이고 0으로 채워진 배열을 생성하고 다섯번째 요소를 1로 설정하는 코드를 작성하시오."
      ],
      "metadata": {
        "id": "592OJ3VlSerQ"
      }
    },
    {
      "cell_type": "code",
      "source": [
        "import numpy as np\n"
      ],
      "metadata": {
        "id": "jZvIdvJDOyVY"
      },
      "execution_count": null,
      "outputs": []
    },
    {
      "cell_type": "markdown",
      "source": [
        "2.아래와 같은 배열을 생성하는 code를 작성하시오.\n",
        "arange 사용\n",
        "\n",
        "[3,6,9,12,15,18,21]"
      ],
      "metadata": {
        "id": "ZVFhVdHiXGs5"
      }
    },
    {
      "cell_type": "code",
      "source": [
        "import numpy as np\n",
        "\n"
      ],
      "metadata": {
        "id": "Rtng0qrqXXy8"
      },
      "execution_count": null,
      "outputs": []
    },
    {
      "cell_type": "markdown",
      "source": [
        "3.0부터 8까지의 값을 가지고 크기가 3x3인 행렬을 arange와 reshape 명령어를 이용하여 생성 하시오.\n",
        "\n",
        "[[0 1 2]    \n",
        " [3,4,5]  \n",
        " [6,7,8]]\n"
      ],
      "metadata": {
        "id": "Q7f9SpttTHt5"
      }
    },
    {
      "cell_type": "code",
      "source": [
        "import numpy as np\n"
      ],
      "metadata": {
        "id": "2SXQGKL5Tzmd"
      },
      "execution_count": null,
      "outputs": []
    },
    {
      "cell_type": "markdown",
      "source": [
        "4.난수로 채워진 3x3 배열을 생성하고 최대값과 최소값을 구하는 코드를 작성 하시오"
      ],
      "metadata": {
        "id": "3KGmXq0_T_Sl"
      }
    },
    {
      "cell_type": "code",
      "source": [
        "import numpy as np\n",
        "\n"
      ],
      "metadata": {
        "id": "xbyKcM1AUX7t"
      },
      "execution_count": null,
      "outputs": []
    },
    {
      "cell_type": "markdown",
      "source": [
        "5.다음과 같은 행렬을 만드는 code를 작성하시오.\n",
        "(ones 함수와 slicing 이용)\n",
        "\n",
        "[[1,1,1,0,0]    \n",
        "  [1,1,1,0,0]  \n",
        "  [1,1,1,0,0]   \n",
        "  [1,1,1,1,1]]"
      ],
      "metadata": {
        "id": "wdJDT55-VCw8"
      }
    },
    {
      "cell_type": "code",
      "source": [
        "import numpy as np\n",
        "\n",
        "\n"
      ],
      "metadata": {
        "id": "U16T9gcHVwkF"
      },
      "execution_count": null,
      "outputs": []
    },
    {
      "cell_type": "markdown",
      "source": [
        "6.5x5 행렬을 만들어 체크보드 패턴으로 채워보자\n",
        "( zeros 함수와 slicing 이용)\n",
        "\n",
        "[[0,1,0,1,0]  \n",
        "[1,0,1,0,1]  \n",
        "[0,1,0,1,0]  \n",
        "[1,0,1,0,1]  \n",
        "[0,1,0,1,0]]  "
      ],
      "metadata": {
        "id": "k5AJ3OVbV0oC"
      }
    },
    {
      "cell_type": "code",
      "source": [
        "import numpy as np"
      ],
      "metadata": {
        "id": "8t4wgaYSZwxt"
      },
      "execution_count": null,
      "outputs": []
    },
    {
      "cell_type": "markdown",
      "source": [
        "7.5x5 행렬을 만들어 아래와 같은 패턴으로 채워보자 ( zeros 함수와 slicing 이용)\n",
        "\n",
        "[[0,0,0,0,0]  \n",
        "[1,1,1,1,1]  \n",
        "[0,0,0,0,0]  \n",
        "[1,1,1,1,1]  \n",
        "[0,0,0,0,0]]  "
      ],
      "metadata": {
        "id": "_gmSTBL7g_Vj"
      }
    },
    {
      "cell_type": "code",
      "source": [
        "import numpy as np\n"
      ],
      "metadata": {
        "id": "e14oYF3qhcXi"
      },
      "execution_count": null,
      "outputs": []
    },
    {
      "cell_type": "markdown",
      "source": [
        "8.다음 배열이 가장 자리만 0이 되도록 변경 하시오.\n"
      ],
      "metadata": {
        "id": "gm6T3m1JZ9ok"
      }
    },
    {
      "cell_type": "code",
      "source": [
        "import numpy as np\n",
        "a = np.ones((10,10))"
      ],
      "metadata": {
        "id": "1S-q9rPpcYLm"
      },
      "execution_count": null,
      "outputs": []
    },
    {
      "cell_type": "markdown",
      "source": [
        "9.아래 a에서  \n",
        "1) 10보다 값이 큰 원소의 인덱스 print  \n",
        "2) 값이 0인 원소의 인덱스 print   \n"
      ],
      "metadata": {
        "id": "9sYxq0rmdSuX"
      }
    },
    {
      "cell_type": "code",
      "source": [
        "import numpy as np\n",
        "a = np.array([3,6,2,0,5,8,15,3,0,6,0])\n",
        "\n"
      ],
      "metadata": {
        "id": "jesckxPEdYPD"
      },
      "execution_count": 6,
      "outputs": []
    },
    {
      "cell_type": "markdown",
      "source": [
        "10.아래 code실행 후 a를 print했을때 아래와같이 나오도록 code를 추가 하시오.  \n",
        "[ 9  8 10  9]"
      ],
      "metadata": {
        "id": "CHgoISH60ojj"
      }
    },
    {
      "cell_type": "code",
      "source": [
        "import numpy as np\n",
        "a = np.array([9, 2, 3,4, 8, 7, 10, 9])\n",
        "\n"
      ],
      "metadata": {
        "id": "6c1HddZU001T"
      },
      "execution_count": null,
      "outputs": []
    }
  ]
}