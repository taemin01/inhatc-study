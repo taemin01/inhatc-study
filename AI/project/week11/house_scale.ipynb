{
  "cells": [
    {
      "cell_type": "markdown",
      "id": "EUjsU-HdkwdA",
      "metadata": {
        "id": "EUjsU-HdkwdA"
      },
      "source": [
        "반: A\n",
        "학번: 202044004  \n",
        "이름: 안태민\n"
      ]
    },
    {
      "cell_type": "code",
      "execution_count": 7,
      "id": "a3fbd7bd",
      "metadata": {
        "id": "a3fbd7bd"
      },
      "outputs": [
        {
          "name": "stdout",
          "output_type": "stream",
          "text": [
            "(1460, 5)\n",
            "[[0.66666667 0.25923135 0.5        0.3864598  0.1400982 ]\n",
            " [0.55555556 0.17483044 0.5        0.32440056 0.20654664]\n",
            " [0.66666667 0.27354936 0.5        0.42877292 0.15057283]\n",
            " ...\n",
            " [0.66666667 0.37792012 0.25       0.17771509 0.18854337]\n",
            " [0.44444444 0.14016579 0.25       0.16925247 0.17643208]\n",
            " [0.44444444 0.17370008 0.25       0.19464034 0.20556465]]\n"
          ]
        }
      ],
      "source": [
        "from tensorflow import keras\n",
        "from keras.models import load_model\n",
        "from sklearn.model_selection import train_test_split\n",
        "from sklearn.preprocessing import MinMaxScaler\n",
        "import pandas as pd\n",
        "import numpy as np\n",
        "\n",
        "#데이터를 불러 옵니다.\n",
        "df = pd.read_csv(\"house_data.csv\")\n",
        "\n",
        "#카테고리형 변수를 0과 1로 이루어진 변수로 바꾸어 줍니다.(12장 3절)\n",
        "df = pd.get_dummies(df)\n",
        "\n",
        "#결측치를 전체 칼럼의 평균으로 대체하여 채워줍니다.\n",
        "df = df.fillna(df.mean())\n",
        "\n",
        "#업데이트된 데이터프레임을 출력해 봅니다.\n",
        "#df\n",
        "#집 값을 제외한 나머지 열을 저장합니다.\n",
        "cols_train=['OverallQual','GrLivArea','GarageCars','GarageArea','TotalBsmtSF']\n",
        "X_data = df[cols_train]\n",
        "X_data=X_data.astype(float)\n",
        "scaler = MinMaxScaler()\n",
        "scaler.fit(X_data)\n",
        "\n",
        "print(X_data.shape)\n",
        "\n",
        "print(scaler.transform(X_data))"
      ]
    }
  ],
  "metadata": {
    "colab": {
      "provenance": []
    },
    "kernelspec": {
      "display_name": "Python 3",
      "language": "python",
      "name": "python3"
    },
    "language_info": {
      "codemirror_mode": {
        "name": "ipython",
        "version": 3
      },
      "file_extension": ".py",
      "mimetype": "text/x-python",
      "name": "python",
      "nbconvert_exporter": "python",
      "pygments_lexer": "ipython3",
      "version": "3.11.12"
    }
  },
  "nbformat": 4,
  "nbformat_minor": 5
}
