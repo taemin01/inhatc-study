{
 "cells": [
  {
   "cell_type": "code",
   "execution_count": null,
   "metadata": {},
   "outputs": [],
   "source": [
    "import numpy as np\n",
    "\n",
    "a = np.array([[1, 2, 3], [4, 5, 6], [7, 8, 9]])"
   ]
  },
  {
   "cell_type": "code",
   "execution_count": null,
   "metadata": {},
   "outputs": [
    {
     "name": "stdout",
     "output_type": "stream",
     "text": [
      "1 :  6\n",
      "2 :  (3, 3)\n",
      "3 :  9\n",
      "3 :  9\n",
      "4 : \n",
      " [[0. 0.]\n",
      " [0. 0.]\n",
      " [0. 0.]\n",
      " [0. 0.]]\n"
     ]
    }
   ],
   "source": [
    "print(\"1 : \", a[1][2])\n",
    "\n",
    "print(\"2 : \", a.shape)\n",
    "\n",
    "print(\"3 : \", a.size)\n",
    "\n",
    "print(\"3 : \", a.size)\n",
    "\n",
    "print(\"4 : \\n\", np.zeros((4,2)))\n",
    "\n",
    "print(\"5 : \", np.arange(3, 12, 2))"
   ]
  },
  {
   "cell_type": "code",
   "execution_count": 11,
   "metadata": {},
   "outputs": [
    {
     "name": "stdout",
     "output_type": "stream",
     "text": [
      "6 :  [[ 1  2  3  7  8  9]\n",
      " [ 4  5  6 10 11 12]]\n",
      "7 :  [[ 1  2  3]\n",
      " [ 4  5  6]\n",
      " [ 7  8  9]\n",
      " [10 11 12]]\n",
      "8 :  [[ 1  2  3]\n",
      " [ 4  5  6]\n",
      " [ 7  8  9]\n",
      " [10 11 12]]\n"
     ]
    }
   ],
   "source": [
    "x = np.array([[1, 2, 3], [4, 5, 6]])\n",
    "y = np.array([[7, 8 ,9], [10, 11, 12]])\n",
    "\n",
    "print(\"6 : \", np.concatenate((x, y), axis=1))\n",
    "print(\"7 : \", np.concatenate((x, y), axis=0))\n",
    "print(\"8 : \", np.vstack((x, y)))"
   ]
  },
  {
   "cell_type": "code",
   "execution_count": 14,
   "metadata": {},
   "outputs": [
    {
     "name": "stdout",
     "output_type": "stream",
     "text": [
      "9 :  [[0 1]\n",
      " [2 3]\n",
      " [4 5]\n",
      " [6 7]\n",
      " [8 9]]\n",
      "10 :  [[0 1 2 3 4]\n",
      " [5 6 7 8 9]]\n"
     ]
    }
   ],
   "source": [
    "a = np.arange(10)\n",
    "print(\"9 : \", a.reshape(5,2))\n",
    "print(\"10 : \", a.reshape(2,-1))"
   ]
  },
  {
   "cell_type": "code",
   "execution_count": 15,
   "metadata": {},
   "outputs": [
    {
     "name": "stdout",
     "output_type": "stream",
     "text": [
      "11 :  (8,)\n",
      "12 :  [[1 2 3 4 5 6 7 8]]\n",
      "13 :  (1, 8)\n",
      "14 :  [[1]\n",
      " [2]\n",
      " [3]\n",
      " [4]\n",
      " [5]\n",
      " [6]\n",
      " [7]\n",
      " [8]]\n",
      "15 :  (8, 1)\n"
     ]
    }
   ],
   "source": [
    "a = np.array([1, 2, 3, 4, 5, 6,7,8])\n",
    "print(\"11 : \", a.shape)\n",
    "a1 = a[np.newaxis, :]\n",
    "print(\"12 : \", a1)\n",
    "print(\"13 : \", a1.shape)\n",
    "a2 = a[:, np.newaxis]\n",
    "print(\"14 : \", a2)\n",
    "print(\"15 : \", a2.shape)"
   ]
  },
  {
   "cell_type": "code",
   "execution_count": 1,
   "metadata": {},
   "outputs": [
    {
     "name": "stdout",
     "output_type": "stream",
     "text": [
      "1742964902526117310\n"
     ]
    }
   ],
   "source": [
    "import chromadb\n",
    "\n",
    "client = chromadb.HttpClient(\n",
    "    host=\"mywol.iptime.org\",\n",
    "    port=3307\n",
    ")\n",
    "\n",
    "print(client.heartbeat())"
   ]
  },
  {
   "cell_type": "code",
   "execution_count": null,
   "metadata": {},
   "outputs": [],
   "source": []
  }
 ],
 "metadata": {
  "kernelspec": {
   "display_name": "Python 3",
   "language": "python",
   "name": "python3"
  },
  "language_info": {
   "codemirror_mode": {
    "name": "ipython",
    "version": 3
   },
   "file_extension": ".py",
   "mimetype": "text/x-python",
   "name": "python",
   "nbconvert_exporter": "python",
   "pygments_lexer": "ipython3",
   "version": "3.12.5"
  }
 },
 "nbformat": 4,
 "nbformat_minor": 2
}
