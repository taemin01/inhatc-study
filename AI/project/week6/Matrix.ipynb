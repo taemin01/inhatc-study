{
  "cells": [
    {
      "cell_type": "markdown",
      "metadata": {
        "id": "Hn7Iuw3nBgaW"
      },
      "source": [
        "행렬 연습"
      ]
    },
    {
      "cell_type": "markdown",
      "metadata": {
        "id": "ItH4eCNkM9yz"
      },
      "source": [
        "다음의 행렬 곲을 numpy로 구현하고 결과를 출력하시오."
      ]
    },
    {
      "cell_type": "markdown",
      "metadata": {
        "id": "NLVAtBcHL_ox"
      },
      "source": [
        "1.\n",
        "\n",
        "![image.png](data:image/png;base64,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)"
      ]
    },
    {
      "cell_type": "code",
      "execution_count": 4,
      "metadata": {
        "id": "e3UiED0mBYeY"
      },
      "outputs": [
        {
          "name": "stdout",
          "output_type": "stream",
          "text": [
            "[[22 28]\n",
            " [49 64]]\n"
          ]
        }
      ],
      "source": [
        "import numpy as np\n",
        "\n",
        "a = np.array([[1,2,3],[4,5,6]])\n",
        "b = np.array([[1,2],[3,4],[5,6]])\n",
        "\n",
        "print(np.matmul(a, b))"
      ]
    },
    {
      "cell_type": "markdown",
      "metadata": {
        "id": "72RZR1u7NULD"
      },
      "source": [
        "2.\n",
        "\n",
        "![image.png](data:image/png;base64,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)\n"
      ]
    },
    {
      "cell_type": "code",
      "execution_count": 16,
      "metadata": {
        "id": "7TeYuWI4NleD"
      },
      "outputs": [
        {
          "name": "stdout",
          "output_type": "stream",
          "text": [
            "[[ 9 12 15]\n",
            " [19 26 33]\n",
            " [29 40 51]]\n"
          ]
        }
      ],
      "source": [
        "import numpy as np\n",
        "\n",
        "a = np.array([[1,2],[3,4],[5,6]])\n",
        "b = np.array([[1,2,3],[4,5,6]])\n",
        "\n",
        "print(np.matmul(a, b))"
      ]
    },
    {
      "cell_type": "markdown",
      "metadata": {
        "id": "WTszk9TLNvEj"
      },
      "source": [
        "3.\n",
        "\n",
        "\n",
        "\n",
        "![image.png](data:image/png;base64,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)"
      ]
    },
    {
      "cell_type": "code",
      "execution_count": 8,
      "metadata": {
        "id": "7wd_h-1bN0sM"
      },
      "outputs": [
        {
          "name": "stdout",
          "output_type": "stream",
          "text": [
            "[26 12 22]\n"
          ]
        }
      ],
      "source": [
        "import numpy as np\n",
        "\n",
        "a = np.array([[3,2,1],[1,1,1],[1,2,3]])\n",
        "b = np.array([5,4,3])\n",
        "\n",
        "print(np.matmul(a, b))"
      ]
    },
    {
      "cell_type": "markdown",
      "metadata": {
        "id": "S3TGnbI0PQN-"
      },
      "source": [
        "4.\n",
        "\n",
        "![image.png](data:image/png;base64,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)"
      ]
    },
    {
      "cell_type": "code",
      "execution_count": 14,
      "metadata": {
        "id": "D6e4P6LEPTo-"
      },
      "outputs": [
        {
          "name": "stdout",
          "output_type": "stream",
          "text": [
            "[[ 3  4 12]\n",
            " [ 1 10  3]\n",
            " [ 1  4  9]]\n",
            "[ 8 18 15]\n"
          ]
        }
      ],
      "source": [
        "import numpy as np\n",
        "\n",
        "a = np.array([1,2,3])\n",
        "b = np.array([[3,2,4],[1,5,1],[1,2,3]])\n",
        "\n",
        "print(a*b)\n",
        "print(np.matmul(a, b))"
      ]
    },
    {
      "cell_type": "markdown",
      "metadata": {
        "id": "TM4s7spnP3mX"
      },
      "source": [
        "5.\n",
        "\n",
        "![image.png](data:image/png;base64,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)"
      ]
    },
    {
      "cell_type": "code",
      "execution_count": 13,
      "metadata": {
        "id": "JhOK80vpP_37"
      },
      "outputs": [
        {
          "name": "stdout",
          "output_type": "stream",
          "text": [
            "22\n"
          ]
        }
      ],
      "source": [
        "import numpy as np\n",
        "\n",
        "a = np.array([1,2,3])\n",
        "b = np.array([5,4,3])\n",
        "\n",
        "print(np.matmul(a, b))"
      ]
    }
  ],
  "metadata": {
    "colab": {
      "provenance": []
    },
    "kernelspec": {
      "display_name": "Python 3",
      "name": "python3"
    },
    "language_info": {
      "codemirror_mode": {
        "name": "ipython",
        "version": 3
      },
      "file_extension": ".py",
      "mimetype": "text/x-python",
      "name": "python",
      "nbconvert_exporter": "python",
      "pygments_lexer": "ipython3",
      "version": "3.12.5"
    }
  },
  "nbformat": 4,
  "nbformat_minor": 0
}
