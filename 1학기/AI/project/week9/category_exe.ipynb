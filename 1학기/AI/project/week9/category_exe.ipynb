{
  "cells": [
    {
      "cell_type": "markdown",
      "metadata": {
        "id": "u4enL3N5Y3Tf"
      },
      "source": [
        "아래 문자열 입력을 정수형으로 변경하고 print하는 code를 작성하시오"
      ]
    },
    {
      "cell_type": "code",
      "execution_count": 1,
      "metadata": {
        "id": "gtPzPuyEWAN5"
      },
      "outputs": [
        {
          "name": "stdout",
          "output_type": "stream",
          "text": [
            "[0 1 2 3]\n"
          ]
        }
      ],
      "source": [
        "import numpy as np\n",
        "from sklearn.preprocessing import LabelEncoder\n",
        "X = np.array(['apple','grape','melon','orange'])\n",
        "\n",
        "labelEncoder = LabelEncoder()\n",
        "X = labelEncoder.fit_transform(X)\n",
        "print(X)"
      ]
    },
    {
      "cell_type": "markdown",
      "metadata": {
        "id": "KGBSj9_DZKds"
      },
      "source": [
        "아래 문자열 입력을 원 핫 인코딩으로 변경하고 print하는 code를 작성하시오."
      ]
    },
    {
      "cell_type": "code",
      "execution_count": 4,
      "metadata": {
        "id": "ogcF1qGNWw9T"
      },
      "outputs": [
        {
          "name": "stdout",
          "output_type": "stream",
          "text": [
            "[[1. 0. 0. 0.]\n",
            " [0. 1. 0. 0.]\n",
            " [0. 0. 1. 0.]\n",
            " [0. 0. 0. 1.]]\n"
          ]
        }
      ],
      "source": [
        "import numpy as np\n",
        "from sklearn.preprocessing import OneHotEncoder\n",
        "X = np.array(['apple','grape','melon','orange'])\n",
        "\n",
        "onehotencoder = OneHotEncoder()\n",
        "XX = onehotencoder.fit_transform(X.reshape(-1, 1)).toarray()\n",
        "\n",
        "print(XX)"
      ]
    },
    {
      "cell_type": "markdown",
      "metadata": {
        "id": "klFB8h5PY2e3"
      },
      "source": [
        "아래 class vector를 원 핫 인코딩으로 변경하고 print하는  code를 작성하시오."
      ]
    },
    {
      "cell_type": "code",
      "execution_count": 7,
      "metadata": {
        "id": "1dV3_HAuXs9G"
      },
      "outputs": [
        {
          "name": "stdout",
          "output_type": "stream",
          "text": [
            "[[0. 0. 0. 1.]\n",
            " [0. 1. 0. 0.]\n",
            " [1. 0. 0. 0.]\n",
            " [0. 0. 1. 0.]]\n"
          ]
        }
      ],
      "source": [
        "from tensorflow import keras\n",
        "import numpy as np\n",
        "from sklearn.preprocessing import OneHotEncoder\n",
        "\n",
        "class_vector = np.array([8, 3, 2, 5])\n",
        "\n",
        "onehotencoder = OneHotEncoder()\n",
        "\n",
        "print(onehotencoder.fit_transform(class_vector.reshape(-1, 1)).toarray())"
      ]
    }
  ],
  "metadata": {
    "colab": {
      "provenance": []
    },
    "kernelspec": {
      "display_name": "Python 3",
      "name": "python3"
    },
    "language_info": {
      "codemirror_mode": {
        "name": "ipython",
        "version": 3
      },
      "file_extension": ".py",
      "mimetype": "text/x-python",
      "name": "python",
      "nbconvert_exporter": "python",
      "pygments_lexer": "ipython3",
      "version": "3.11.12"
    }
  },
  "nbformat": 4,
  "nbformat_minor": 0
}
