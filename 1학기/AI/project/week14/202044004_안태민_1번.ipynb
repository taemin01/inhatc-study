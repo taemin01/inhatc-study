{
  "nbformat": 4,
  "nbformat_minor": 0,
  "metadata": {
    "kernelspec": {
      "display_name": "Python 3",
      "language": "python",
      "name": "python3"
    },
    "language_info": {
      "codemirror_mode": {
        "name": "ipython",
        "version": 3
      },
      "file_extension": ".py",
      "mimetype": "text/x-python",
      "name": "python",
      "nbconvert_exporter": "python",
      "pygments_lexer": "ipython3",
      "version": "3.7.3"
    },
    "colab": {
      "provenance": []
    }
  },
  "cells": [
    {
      "cell_type": "code",
      "source": [
        "import nltk\n",
        "from nltk.tokenize import word_tokenize\n",
        "from tensorflow.keras.preprocessing.text import *\n",
        "\n",
        "nltk.download('punkt')\n",
        "\n",
        "# 1번\n",
        "tokens = word_tokenize('인공지능. 첫 번째 과제입니다.!')\n",
        "print([word for word in tokens if word.isalpha()])\n",
        "\n",
        "# 2번\n",
        "print(text_to_word_sequence('This is a cat.'))"
      ],
      "metadata": {
        "id": "-PHQZotghuiB",
        "colab": {
          "base_uri": "https://localhost:8080/"
        },
        "outputId": "9a6800d2-b71e-42a6-b9a6-471ed9c35eb2"
      },
      "execution_count": 6,
      "outputs": [
        {
          "output_type": "stream",
          "name": "stdout",
          "text": [
            "['인공지능', '첫', '번째', '과제입니다']\n",
            "['this', 'is', 'a', 'cat']\n"
          ]
        },
        {
          "output_type": "stream",
          "name": "stderr",
          "text": [
            "[nltk_data] Downloading package punkt to /root/nltk_data...\n",
            "[nltk_data]   Package punkt is already up-to-date!\n"
          ]
        }
      ]
    }
  ]
}