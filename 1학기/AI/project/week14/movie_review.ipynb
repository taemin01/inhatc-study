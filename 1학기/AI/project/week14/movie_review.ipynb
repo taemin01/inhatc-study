{
  "nbformat": 4,
  "nbformat_minor": 0,
  "metadata": {
    "kernelspec": {
      "display_name": "Python 3",
      "language": "python",
      "name": "python3"
    },
    "language_info": {
      "codemirror_mode": {
        "name": "ipython",
        "version": 3
      },
      "file_extension": ".py",
      "mimetype": "text/x-python",
      "name": "python",
      "nbconvert_exporter": "python",
      "pygments_lexer": "ipython3",
      "version": "3.7.3"
    },
    "colab": {
      "provenance": []
    }
  },
  "cells": [
    {
      "cell_type": "code",
      "source": [
        "import numpy as np\n",
        "\n",
        "import tensorflow as tf\n",
        "from tensorflow import keras\n",
        "\n",
        "import matplotlib.pyplot as plt\n",
        "\n",
        "imdb = keras.datasets.imdb\n",
        "(x_train, y_train), (x_test, y_test) = imdb.load_data(num_words=10000)\n",
        "\n",
        "print(x_train[0])\n",
        "\n",
        "# 단어 ->정수 인덱스 딕셔너리\n",
        "word_to_index = imdb.get_word_index()\n",
        "\n",
        "# 처음 몇 개의 인덱스는 특수 용도로 사용된다.\n",
        "word_to_index = {k:(v+3) for k,v in word_to_index.items()}\n",
        "word_to_index[\"<PAD>\"] = 0\t\t# 문장을 채우는 기호\n",
        "word_to_index[\"<START>\"] = 1\t\t# 시작을 표시\n",
        "word_to_index[\"<UNK>\"] = 2  \t\t# 알려지지 않은 토큰\n",
        "word_to_index[\"<UNUSED>\"] = 3\n",
        "\n",
        "index_to_word = dict([(value, key) for (key, value) in word_to_index.items()])\n",
        "\n",
        "print(' '.join([index_to_word[index] for index in x_train[0]]))\n",
        "\n",
        "from tensorflow.keras.preprocessing.sequence import pad_sequences\n",
        "from tensorflow.keras.models import Sequential\n",
        "from tensorflow.keras.layers import *\n",
        "\n",
        "x_train = pad_sequences(x_train, maxlen=100)\n",
        "x_test = pad_sequences(x_test, maxlen=100)\n",
        "\n",
        "vocab_size = 10000\n",
        "\n",
        "model = Sequential()\n",
        "model.add(Embedding(vocab_size, 64,\n",
        "                    input_length=100))\n",
        "model.add(Flatten())\n",
        "model.add(Dense(64, activation='relu'))\n",
        "model.add(Dropout(0.5))\n",
        "model.add(Dense(1, activation='sigmoid'))\n",
        "\n",
        "model.summary()\n",
        "\n",
        "model.compile(loss='binary_crossentropy', optimizer='adam',\n",
        "              metrics=['accuracy'])\n",
        "history = model.fit(x_train, y_train,\n",
        "          batch_size=64, epochs=3, verbose=1,\n",
        "          validation_data=(x_test, y_test))\n",
        "\n",
        "results = model.evaluate(x_test,  y_test, verbose=2)\n",
        "print(results)\n",
        "\n",
        "import re\n",
        "def check_review(review: str):\n",
        "\treview = re.sub(\"[^0-9a-zA-Z ]\", \"\", review).lower()\n",
        "\n",
        "\treview_encoding = []\n",
        "\t# 리뷰의 각 단어 대하여 반복한다.\n",
        "\tfor w in review.split():\n",
        "\t\t\tindex = word_to_index.get(w, 2)\t# 딕셔너리에 없으면 2 반환\n",
        "\t\t\tif index <= 10000:\t\t# 단어의 개수는 10000이하\n",
        "\t\t\t\treview_encoding.append(index)\n",
        "\t\t\telse:\n",
        "\t\t\t\treview_encoding.append(word_to_index[\"UNK\"])\n",
        "\n",
        "\t# 2차원 리스트로 전달하여야 한다.\n",
        "\ttest_input = pad_sequences([review_encoding], maxlen = 100)\n",
        "\tvalue = model.predict(test_input) # 예측\n",
        "\tif(value > 0.5)\n",
        "\t\tprint(\"긍정적인 리뷰입니다.\")\n",
        "\telse:\n",
        "\t\tprint(\"부정적인 리뷰입니다.\")"
      ],
      "metadata": {
        "id": "-PHQZotghuiB",
        "colab": {
          "base_uri": "https://localhost:8080/"
        },
        "outputId": "48a57135-a6e0-492d-dc91-278a2cacdc66"
      },
      "execution_count": 7,
      "outputs": [
        {
          "output_type": "stream",
          "name": "stdout",
          "text": [
            "\b\b\b\b\b\b\b\b\b\b\b\b\b\b\b\b\b\b\b\b\b\b\b\b\b\b\b\b\b\b\b\b\b\b\b\b\b\b\b\b\b\b\b\b\b\b\b\b\b\b\b\b\b\b\b\b\b\b\b\b\b\b\b\b\b\b\b\b\b\b\b\b\b\b\b\r\u001b[1m391/391\u001b[0m \u001b[32m━━━━━━━━━━━━━━━━━━━━\u001b[0m\u001b[37m\u001b[0m \u001b[1m20s\u001b[0m 26ms/step - accuracy: 0.9343 - loss: 0.1860 - val_accuracy: 0.8270 - val_loss: 0.4102\n",
            "Epoch 3/3\n",
            "\u001b[1m391/391\u001b[0m \u001b[32m━━━━━━━━━━━━━━━━━━━━\u001b[0m\u001b[37m\u001b[0m \u001b[1m19s\u001b[0m 23ms/step - accuracy: 0.9914 - loss: 0.0370 - val_accuracy: 0.8277 - val_loss: 0.5293\n",
            "782/782 - 3s - 4ms/step - accuracy: 0.8277 - loss: 0.5293\n",
            "[0.529331624507904, 0.8277199864387512]\n"
          ]
        }
      ]
    },
    {
      "cell_type": "code",
      "source": [
        "# 기존 리뷰\n",
        "text = \"This movie is a great and beautiful film. The story is good and the characters are nice. I love the action and the adventure. The scenes are amazing and the music is excellent. This is a movie I want to watch again. Best movie ever.\"\n",
        "# text = \"This movie is boring and terrible. The story is bad and the characters are weak. I hate the action and the adventure. The scenes are awful and the music is annoying. This is a movie I never want to watch again. Worst movie ever.\"\n",
        "\n",
        "\n",
        "\n",
        "check_review(text)"
      ],
      "metadata": {
        "colab": {
          "base_uri": "https://localhost:8080/"
        },
        "id": "R2wCBPsYk9Cf",
        "outputId": "dcc1413c-ec6f-4494-f001-6efefc317126"
      },
      "execution_count": 15,
      "outputs": [
        {
          "output_type": "stream",
          "name": "stdout",
          "text": [
            "\u001b[1m1/1\u001b[0m \u001b[32m━━━━━━━━━━━━━━━━━━━━\u001b[0m\u001b[37m\u001b[0m \u001b[1m0s\u001b[0m 42ms/step\n",
            "부정적인 리뷰입니다.\n"
          ]
        }
      ]
    }
  ]
}