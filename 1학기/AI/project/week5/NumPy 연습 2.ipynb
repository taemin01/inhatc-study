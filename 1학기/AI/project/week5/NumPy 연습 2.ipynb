{
  "cells": [
    {
      "cell_type": "markdown",
      "metadata": {
        "id": "vydh4AaATqYd"
      },
      "source": [
        "아래 문제들은 결과 출력까지 실행 후 ipynb  파일과 .py 파일로 제출  \n",
        "print(b)의 결과가 다음과 같이 되는 code를 작성하시오..  \n",
        "b는 a를 이용하여 정의 함.   "
      ]
    },
    {
      "cell_type": "markdown",
      "metadata": {
        "id": "oaQJW-vjZYqp"
      },
      "source": [
        "1.   \n",
        "[[ 0  1  2  3  4  5  6  7  8  9 10 11 12 13 14 15]]\n"
      ]
    },
    {
      "cell_type": "code",
      "execution_count": 1,
      "metadata": {
        "id": "s7WN7jUqZcjd"
      },
      "outputs": [
        {
          "name": "stdout",
          "output_type": "stream",
          "text": [
            "[ 0  1  2  3  4  5  6  7  8  9 10 11 12 13 14 15]\n",
            "[[ 0  1  2  3  4  5  6  7  8  9 10 11 12 13 14 15]]\n"
          ]
        }
      ],
      "source": [
        "import numpy as np\n",
        "a=np.arange(16)\n",
        "\n",
        "b=a.reshape(1, -1)\n",
        "\n",
        "print(a)\n",
        "print(b)"
      ]
    },
    {
      "cell_type": "markdown",
      "metadata": {
        "id": "D5qqUBjKZqsG"
      },
      "source": [
        "2.   \n",
        "[  [ 0  1  2  3  4  5  6  7]  \n",
        "   [ 8  9 10 11 12 13 14 15]  ]\n"
      ]
    },
    {
      "cell_type": "code",
      "execution_count": 11,
      "metadata": {
        "id": "JspbrxxJZnqY"
      },
      "outputs": [
        {
          "name": "stdout",
          "output_type": "stream",
          "text": [
            "[ 0  1  2  3  4  5  6  7  8  9 10 11 12 13 14 15]\n",
            "[[ 0  1  2  3  4  5  6  7]\n",
            " [ 8  9 10 11 12 13 14 15]]\n"
          ]
        }
      ],
      "source": [
        "import numpy as np\n",
        "a=np.arange(16)\n",
        "b=a.reshape(2, -1)\n",
        "\n",
        "\n",
        "print(a)\n",
        "print(b)"
      ]
    },
    {
      "cell_type": "markdown",
      "metadata": {
        "id": "592OJ3VlSerQ"
      },
      "source": [
        "3.\n",
        "\n",
        "[ [ [ 0  1]  \n",
        "    [ 2  3]  \n",
        "    [ 4  5]  \n",
        "    [ 6  7]  \n",
        "    [ 8  9]  \n",
        "    [10 11]  \n",
        "    [12 13]  \n",
        "    [14 15]]  ]  "
      ]
    },
    {
      "cell_type": "code",
      "execution_count": 19,
      "metadata": {
        "id": "jZvIdvJDOyVY"
      },
      "outputs": [
        {
          "name": "stdout",
          "output_type": "stream",
          "text": [
            "[ 0  1  2  3  4  5  6  7  8  9 10 11 12 13 14 15]\n",
            "[[[ 0  1]\n",
            "  [ 2  3]\n",
            "  [ 4  5]\n",
            "  [ 6  7]\n",
            "  [ 8  9]\n",
            "  [10 11]\n",
            "  [12 13]\n",
            "  [14 15]]]\n"
          ]
        }
      ],
      "source": [
        "import numpy as np\n",
        "a=np.arange(16)\n",
        "b=a.reshape(1, -1, 2)\n",
        "\n",
        "print(a)\n",
        "print(b)"
      ]
    },
    {
      "cell_type": "markdown",
      "metadata": {
        "id": "ajWBo2VXawqL"
      },
      "source": [
        "4.\n",
        "\n",
        "[ [[ 0]  \n",
        "   [ 1]  \n",
        "   [ 2]]  \n",
        "\n",
        " [ [ 3]  \n",
        "   [ 4]  \n",
        "   [ 5] ]  \n",
        "\n",
        " [ [ 6]  \n",
        "   [ 7]  \n",
        "   [ 8]  ]  \n",
        "\n",
        " [ [ 9]  \n",
        "   [10]  \n",
        "   [11] ] ]  \n"
      ]
    },
    {
      "cell_type": "code",
      "execution_count": 22,
      "metadata": {
        "id": "pgi78cfkZ6NS"
      },
      "outputs": [
        {
          "name": "stdout",
          "output_type": "stream",
          "text": [
            "[ 0  1  2  3  4  5  6  7  8  9 10 11]\n",
            "[[[ 0]\n",
            "  [ 1]\n",
            "  [ 2]\n",
            "  [ 3]\n",
            "  [ 4]\n",
            "  [ 5]]\n",
            "\n",
            " [[ 6]\n",
            "  [ 7]\n",
            "  [ 8]\n",
            "  [ 9]\n",
            "  [10]\n",
            "  [11]]]\n"
          ]
        }
      ],
      "source": [
        "import numpy as np\n",
        "a=np.arange(12)\n",
        "b=a.reshape(2, -1, 1)\n",
        "\n",
        "print(a)\n",
        "print(b)"
      ]
    },
    {
      "cell_type": "markdown",
      "metadata": {
        "id": "ZVFhVdHiXGs5"
      },
      "source": [
        "5. [8]  \n",
        "\n"
      ]
    },
    {
      "cell_type": "code",
      "execution_count": 31,
      "metadata": {
        "id": "Rtng0qrqXXy8"
      },
      "outputs": [
        {
          "name": "stdout",
          "output_type": "stream",
          "text": [
            "[8]\n"
          ]
        }
      ],
      "source": [
        "import numpy as np\n",
        "a=np.array([[1,2,3,4],[5,6,7,8],[9,10,11,12]])\n",
        "b=a[1, 3:4]\n",
        "print(b)"
      ]
    },
    {
      "cell_type": "code",
      "execution_count": null,
      "metadata": {},
      "outputs": [],
      "source": []
    }
  ],
  "metadata": {
    "colab": {
      "provenance": []
    },
    "kernelspec": {
      "display_name": "Python 3",
      "name": "python3"
    },
    "language_info": {
      "codemirror_mode": {
        "name": "ipython",
        "version": 3
      },
      "file_extension": ".py",
      "mimetype": "text/x-python",
      "name": "python",
      "nbconvert_exporter": "python",
      "pygments_lexer": "ipython3",
      "version": "3.12.5"
    }
  },
  "nbformat": 4,
  "nbformat_minor": 0
}
