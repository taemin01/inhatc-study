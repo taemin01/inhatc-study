{
  "cells": [
    {
      "cell_type": "code",
      "execution_count": 2,
      "metadata": {
        "colab": {
          "base_uri": "https://localhost:8080/",
          "height": 404
        },
        "id": "f9ze0bFpjsoV",
        "outputId": "f1540dbf-8c20-4987-c0c8-24861a4a5959",
        "scrolled": false
      },
      "outputs": [
        {
          "name": "stdout",
          "output_type": "stream",
          "text": [
            "diabetes_X (442, 10)\n",
            "diabetes_X_new0 (442,)\n",
            "diabetes_X_new (442, 1)\n",
            "X_train (397, 1)\n",
            "X_test (45, 1)\n",
            "y_train (397,)\n",
            "y_test (45,)\n",
            "값 :  [175.37750458]\n"
          ]
        },
        {
          "data": {
            "image/png": "[encoded data removed]",
            "text/plain": [
              "<Figure size 640x480 with 1 Axes>"
            ]
          },
          "metadata": {},
          "output_type": "display_data"
        }
      ],
      "source": [
        "import matplotlib.pylab as plt\n",
        "import numpy as np\n",
        "from sklearn.linear_model import LinearRegression\n",
        "from sklearn import datasets, linear_model\n",
        "\n",
        "# 당뇨병 데이터 세트를 적재한다. \n",
        "diabetes_X, diabetes_y = datasets.load_diabetes(return_X_y=True)\n",
        "\n",
        "print('diabetes_X',diabetes_X.shape )\n",
        "# 하나의 특징(BMI)만 추려내서 2차원 배열로 만든다. BMI 특징의 인덱스가 2이다.\n",
        "diabetes_X_new0 = diabetes_X[:,  2]\n",
        "print('diabetes_X_new0',diabetes_X_new0.shape )\n",
        "diabetes_X_new = diabetes_X[:, np.newaxis, 2]\n",
        "print('diabetes_X_new',diabetes_X_new.shape )\n",
        "\n",
        "# 학습 데이터와 테스트 데이터를 분리한다. \n",
        "from sklearn.model_selection import train_test_split\n",
        "X_train, X_test, y_train, y_test = train_test_split(diabetes_X_new, diabetes_y, test_size=0.1, random_state=0)\n",
        "print('X_train',X_train.shape)\n",
        "print('X_test',X_test.shape)\n",
        "print('y_train',y_train.shape)\n",
        "print('y_test',y_test.shape)\n",
        "\n",
        "regr = linear_model.LinearRegression()\n",
        "regr.fit(X_train, y_train)\n",
        "\n",
        "# 테스트 데이터로 예측해보자. \n",
        "y_pred = regr.predict(X_test) \n",
        "print('값 : ',regr.predict([[0.025]])) # bmi가 0.01일때 혈당 예측값\n",
        "\n",
        "# 실제 데이터와 예측 데이터를 비교해보자. \n",
        "# plt.plot(y_test, y_pred, '.')\n",
        "\n",
        "plt.scatter(X_test, y_test,  color='black')\n",
        "plt.plot(X_test, y_pred, color='blue', linewidth=3)\n",
        "plt.show()\n"
      ]
    },
    {
      "cell_type": "code",
      "execution_count": 4,
      "metadata": {
        "id": "5SLS3C9Jjsoc"
      },
      "outputs": [
        {
          "data": {
            "text/plain": [
              "array([ 3,  5,  7,  9, 11])"
            ]
          },
          "execution_count": 4,
          "metadata": {},
          "output_type": "execute_result"
        }
      ],
      "source": [
        "np.arange(3, 12, 2)"
      ]
    },
    {
      "cell_type": "code",
      "execution_count": null,
      "metadata": {},
      "outputs": [],
      "source": []
    }
  ],
  "metadata": {
    "colab": {
      "collapsed_sections": [],
      "name": "diabetes.ipynb",
      "provenance": []
    },
    "kernelspec": {
      "display_name": "Python 3",
      "language": "python",
      "name": "python3"
    },
    "language_info": {
      "codemirror_mode": {
        "name": "ipython",
        "version": 3
      },
      "file_extension": ".py",
      "mimetype": "text/x-python",
      "name": "python",
      "nbconvert_exporter": "python",
      "pygments_lexer": "ipython3",
      "version": "3.12.5"
    }
  },
  "nbformat": 4,
  "nbformat_minor": 0
}
