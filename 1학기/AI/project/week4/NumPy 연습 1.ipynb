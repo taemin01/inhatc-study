{
  "cells": [
    {
      "cell_type": "markdown",
      "metadata": {
        "id": "vydh4AaATqYd"
      },
      "source": [
        "아래 문제들은 결과 출력까시 실행 후 노트북 파일을 제출"
      ]
    },
    {
      "cell_type": "markdown",
      "metadata": {
        "id": "592OJ3VlSerQ"
      },
      "source": [
        "1.1차원이면서 크기가 10이고 0으로 채워진 배열을 생성하고 다섯번째 요소를 1로 설정하는 코드를 작성하시오."
      ]
    },
    {
      "cell_type": "code",
      "execution_count": 3,
      "metadata": {
        "id": "jZvIdvJDOyVY"
      },
      "outputs": [
        {
          "data": {
            "text/plain": [
              "array([0., 0., 0., 0., 1., 0., 0., 0., 0., 0.])"
            ]
          },
          "execution_count": 3,
          "metadata": {},
          "output_type": "execute_result"
        }
      ],
      "source": [
        "import numpy as np\n",
        "\n",
        "a = np.zeros(10)\n",
        "a[4] = 1\n",
        "a"
      ]
    },
    {
      "cell_type": "markdown",
      "metadata": {
        "id": "ZVFhVdHiXGs5"
      },
      "source": [
        "2.아래와 같은 배열을 생성하는 code를 작성하시오.\n",
        "arange 사용\n",
        "\n",
        "[3,6,9,12,15,18,21]"
      ]
    },
    {
      "cell_type": "code",
      "execution_count": 4,
      "metadata": {
        "id": "Rtng0qrqXXy8"
      },
      "outputs": [
        {
          "data": {
            "text/plain": [
              "array([ 3,  6,  9, 12, 15, 18, 21])"
            ]
          },
          "execution_count": 4,
          "metadata": {},
          "output_type": "execute_result"
        }
      ],
      "source": [
        "import numpy as np\n",
        "\n",
        "a = np.arange(3, 22, 3)\n",
        "a"
      ]
    },
    {
      "cell_type": "markdown",
      "metadata": {
        "id": "Q7f9SpttTHt5"
      },
      "source": [
        "3.0부터 8까지의 값을 가지고 크기가 3x3인 행렬을 arange와 reshape 명령어를 이용하여 생성 하시오.\n",
        "\n",
        "[[0 1 2]    \n",
        " [3,4,5]  \n",
        " [6,7,8]]\n"
      ]
    },
    {
      "cell_type": "code",
      "execution_count": 9,
      "metadata": {
        "id": "2SXQGKL5Tzmd"
      },
      "outputs": [
        {
          "name": "stdout",
          "output_type": "stream",
          "text": [
            "[[0 1 2]\n",
            " [3 4 5]\n",
            " [6 7 8]]\n"
          ]
        }
      ],
      "source": [
        "import numpy as np\n",
        "\n",
        "a = np.arange(0, 9)\n",
        "print(a.reshape(3, 3))"
      ]
    },
    {
      "cell_type": "markdown",
      "metadata": {
        "id": "3KGmXq0_T_Sl"
      },
      "source": [
        "4.난수로 채워진 3x3 배열을 생성하고 최대값과 최소값을 구하는 코드를 작성 하시오"
      ]
    },
    {
      "cell_type": "code",
      "execution_count": 12,
      "metadata": {
        "id": "xbyKcM1AUX7t"
      },
      "outputs": [
        {
          "name": "stdout",
          "output_type": "stream",
          "text": [
            "최대값 :  0.9689150116331184\n",
            "최소값 :  0.031648180569070705\n"
          ]
        }
      ],
      "source": [
        "import numpy as np\n",
        "\n",
        "a = np.random.rand(3, 3)\n",
        "print(\"최대값 : \", a.max())\n",
        "print(\"최소값 : \", a.min())"
      ]
    },
    {
      "cell_type": "markdown",
      "metadata": {
        "id": "wdJDT55-VCw8"
      },
      "source": [
        "5.다음과 같은 행렬을 만드는 code를 작성하시오.\n",
        "(ones 함수와 slicing 이용)\n",
        "\n",
        "[[1,1,1,0,0]    \n",
        "  [1,1,1,0,0]  \n",
        "  [1,1,1,0,0]   \n",
        "  [1,1,1,1,1]]"
      ]
    },
    {
      "cell_type": "code",
      "execution_count": 25,
      "metadata": {
        "id": "U16T9gcHVwkF"
      },
      "outputs": [
        {
          "data": {
            "text/plain": [
              "array([[1., 1., 1., 0., 0.],\n",
              "       [1., 1., 1., 0., 0.],\n",
              "       [1., 1., 1., 0., 0.],\n",
              "       [1., 1., 1., 1., 1.]])"
            ]
          },
          "execution_count": 25,
          "metadata": {},
          "output_type": "execute_result"
        }
      ],
      "source": [
        "import numpy as np\n",
        "\n",
        "a = np.ones([4, 5])\n",
        "a[:3, 3:5] = 0\n",
        "a"
      ]
    },
    {
      "cell_type": "markdown",
      "metadata": {
        "id": "k5AJ3OVbV0oC"
      },
      "source": [
        "6.5x5 행렬을 만들어 체크보드 패턴으로 채워보자\n",
        "( zeros 함수와 slicing 이용)\n",
        "\n",
        "[[0,1,0,1,0]  \n",
        "[1,0,1,0,1]  \n",
        "[0,1,0,1,0]  \n",
        "[1,0,1,0,1]  \n",
        "[0,1,0,1,0]]  "
      ]
    },
    {
      "cell_type": "code",
      "execution_count": 81,
      "metadata": {
        "id": "8t4wgaYSZwxt"
      },
      "outputs": [
        {
          "data": {
            "text/plain": [
              "array([[0., 1., 0., 1., 0.],\n",
              "       [1., 0., 1., 0., 1.],\n",
              "       [0., 1., 0., 1., 0.],\n",
              "       [1., 0., 1., 0., 1.],\n",
              "       [0., 1., 0., 1., 0.]])"
            ]
          },
          "execution_count": 81,
          "metadata": {},
          "output_type": "execute_result"
        }
      ],
      "source": [
        "import numpy as np\n",
        "\n",
        "a = np.ones([5, 5])\n",
        "\n",
        "a[0:5:2, 0:5:2] = 0\n",
        "a[1:5:2, 1:5:2] = 0\n",
        "\n",
        "a\n"
      ]
    },
    {
      "cell_type": "markdown",
      "metadata": {
        "id": "_gmSTBL7g_Vj"
      },
      "source": [
        "7.5x5 행렬을 만들어 아래와 같은 패턴으로 채워보자 ( zeros 함수와 slicing 이용)\n",
        "\n",
        "[[0,0,0,0,0]  \n",
        "[1,1,1,1,1]  \n",
        "[0,0,0,0,0]  \n",
        "[1,1,1,1,1]  \n",
        "[0,0,0,0,0]]  "
      ]
    },
    {
      "cell_type": "code",
      "execution_count": 89,
      "metadata": {
        "id": "e14oYF3qhcXi"
      },
      "outputs": [
        {
          "data": {
            "text/plain": [
              "array([[0., 0., 0., 0., 0.],\n",
              "       [1., 1., 1., 1., 1.],\n",
              "       [0., 0., 0., 0., 0.],\n",
              "       [1., 1., 1., 1., 1.],\n",
              "       [0., 0., 0., 0., 0.]])"
            ]
          },
          "execution_count": 89,
          "metadata": {},
          "output_type": "execute_result"
        }
      ],
      "source": [
        "import numpy as np\n",
        "\n",
        "a = np.ones([5, 5])\n",
        "a[::2] = 0\n",
        "a"
      ]
    },
    {
      "cell_type": "markdown",
      "metadata": {
        "id": "gm6T3m1JZ9ok"
      },
      "source": [
        "8.다음 배열이 가장 자리만 0이 되도록 변경 하시오.\n"
      ]
    },
    {
      "cell_type": "code",
      "execution_count": 96,
      "metadata": {
        "id": "1S-q9rPpcYLm"
      },
      "outputs": [
        {
          "data": {
            "text/plain": [
              "array([[0., 0., 0., 0., 0., 0., 0., 0., 0., 0.],\n",
              "       [0., 1., 1., 1., 1., 1., 1., 1., 1., 0.],\n",
              "       [0., 1., 1., 1., 1., 1., 1., 1., 1., 0.],\n",
              "       [0., 1., 1., 1., 1., 1., 1., 1., 1., 0.],\n",
              "       [0., 1., 1., 1., 1., 1., 1., 1., 1., 0.],\n",
              "       [0., 1., 1., 1., 1., 1., 1., 1., 1., 0.],\n",
              "       [0., 1., 1., 1., 1., 1., 1., 1., 1., 0.],\n",
              "       [0., 1., 1., 1., 1., 1., 1., 1., 1., 0.],\n",
              "       [0., 1., 1., 1., 1., 1., 1., 1., 1., 0.],\n",
              "       [0., 0., 0., 0., 0., 0., 0., 0., 0., 0.]])"
            ]
          },
          "execution_count": 96,
          "metadata": {},
          "output_type": "execute_result"
        }
      ],
      "source": [
        "import numpy as np\n",
        "a = np.ones((10,10))\n",
        "a[::9] = 0\n",
        "a[:, ::9] = 0\n",
        "a"
      ]
    },
    {
      "cell_type": "markdown",
      "metadata": {
        "id": "9sYxq0rmdSuX"
      },
      "source": [
        "9.아래 a에서  \n",
        "1) 10보다 값이 큰 원소의 인덱스 print  \n",
        "2) 값이 0인 원소의 인덱스 print   \n"
      ]
    },
    {
      "cell_type": "code",
      "execution_count": 62,
      "metadata": {
        "id": "jesckxPEdYPD"
      },
      "outputs": [
        {
          "name": "stdout",
          "output_type": "stream",
          "text": [
            "(array([6]),)\n",
            "(array([ 3,  8, 10]),)\n"
          ]
        }
      ],
      "source": [
        "import numpy as np\n",
        "a = np.array([3,6,2,0,5,8,15,3,0,6,0])\n",
        "\n",
        "print(np.where(a>10))\n",
        "print(np.where(a==0))"
      ]
    },
    {
      "cell_type": "markdown",
      "metadata": {
        "id": "CHgoISH60ojj"
      },
      "source": [
        "10.아래 code실행 후 a를 print했을때 아래와같이 나오도록 code를 추가 하시오.  \n",
        "[ 9  8 10  9]"
      ]
    },
    {
      "cell_type": "code",
      "execution_count": null,
      "metadata": {
        "id": "6c1HddZU001T"
      },
      "outputs": [
        {
          "data": {
            "text/plain": [
              "array([ 9,  8, 10,  9])"
            ]
          },
          "execution_count": 106,
          "metadata": {},
          "output_type": "execute_result"
        }
      ],
      "source": [
        "import numpy as np\n",
        "a = np.array([9, 2, 3,4, 8, 7, 10, 9])\n",
        "a[a>=8]"
      ]
    },
    {
      "cell_type": "code",
      "execution_count": null,
      "metadata": {},
      "outputs": [],
      "source": []
    }
  ],
  "metadata": {
    "colab": {
      "provenance": []
    },
    "kernelspec": {
      "display_name": "Python 3",
      "name": "python3"
    },
    "language_info": {
      "codemirror_mode": {
        "name": "ipython",
        "version": 3
      },
      "file_extension": ".py",
      "mimetype": "text/x-python",
      "name": "python",
      "nbconvert_exporter": "python",
      "pygments_lexer": "ipython3",
      "version": "3.12.5"
    }
  },
  "nbformat": 4,
  "nbformat_minor": 0
}
